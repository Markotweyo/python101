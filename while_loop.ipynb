{
 "cells": [
  {
   "cell_type": "code",
   "execution_count": 3,
   "metadata": {},
   "outputs": [
    {
     "name": "stdout",
     "output_type": "stream",
     "text": [
      "20\n",
      "21\n",
      "22\n",
      "23\n",
      "24\n"
     ]
    }
   ],
   "source": [
    "num=20\n",
    "while num<25:\n",
    "    print(num)\n",
    "    num+=1"
   ]
  },
  {
   "cell_type": "code",
   "execution_count": 5,
   "metadata": {},
   "outputs": [
    {
     "name": "stdout",
     "output_type": "stream",
     "text": [
      "20\n"
     ]
    }
   ],
   "source": [
    "number=20\n",
    "while number<25:\n",
    "    print(number)\n",
    "    number=26"
   ]
  },
  {
   "cell_type": "code",
   "execution_count": 6,
   "metadata": {},
   "outputs": [
    {
     "name": "stdout",
     "output_type": "stream",
     "text": [
      "The value of nums is  5\n",
      "The value of nums is  4\n",
      "The value of nums is  3\n",
      "The value of nums is  2\n",
      "The value of nums is  1\n"
     ]
    }
   ],
   "source": [
    "nums=5\n",
    "while nums:\n",
    "    print('The value of nums is ', nums)\n",
    "    nums=nums-1"
   ]
  },
  {
   "cell_type": "code",
   "execution_count": 9,
   "metadata": {},
   "outputs": [
    {
     "name": "stdout",
     "output_type": "stream",
     "text": [
      "Thomas is an amazing soccer player\n"
     ]
    }
   ],
   "source": [
    "name='Thomas'\n",
    "while name=='Thomas':\n",
    "    print('%s is an amazing soccer player' %name)\n",
    "    name='Kingsley'"
   ]
  },
  {
   "cell_type": "code",
   "execution_count": 12,
   "metadata": {},
   "outputs": [
    {
     "name": "stdout",
     "output_type": "stream",
     "text": [
      "\n",
      "Access Granted\n"
     ]
    }
   ],
   "source": [
    "user_password=''\n",
    "while user_password != 'Mark@2010':\n",
    "    user_password=input('password')\n",
    "print('\\nAccess Granted')\n"
   ]
  },
  {
   "cell_type": "code",
   "execution_count": 16,
   "metadata": {},
   "outputs": [
    {
     "data": {
      "text/plain": [
       "[0, 1, 2, 3, 4, 5, 6, 7, 8, 9]"
      ]
     },
     "execution_count": 16,
     "metadata": {},
     "output_type": "execute_result"
    }
   ],
   "source": [
    "list(range(0,10))"
   ]
  },
  {
   "cell_type": "code",
   "execution_count": 17,
   "metadata": {},
   "outputs": [
    {
     "name": "stdout",
     "output_type": "stream",
     "text": [
      "Even number:  0\n",
      "Even number:  2\n",
      "Even number:  4\n",
      "Even number:  6\n",
      "Even number:  8\n"
     ]
    }
   ],
   "source": [
    "num=0\n",
    "while num in range(0,10):\n",
    "    if num%2==0:\n",
    "        print('Even number: ', num)\n",
    "    num+=1"
   ]
  }
 ],
 "metadata": {
  "kernelspec": {
   "display_name": "base",
   "language": "python",
   "name": "python3"
  },
  "language_info": {
   "codemirror_mode": {
    "name": "ipython",
    "version": 3
   },
   "file_extension": ".py",
   "mimetype": "text/x-python",
   "name": "python",
   "nbconvert_exporter": "python",
   "pygments_lexer": "ipython3",
   "version": "3.11.4"
  }
 },
 "nbformat": 4,
 "nbformat_minor": 2
}
