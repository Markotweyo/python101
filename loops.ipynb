{
 "cells": [
  {
   "cell_type": "markdown",
   "metadata": {},
   "source": [
    "#### For loop and if condition in dictionary"
   ]
  },
  {
   "cell_type": "code",
   "execution_count": 8,
   "metadata": {},
   "outputs": [
    {
     "name": "stdout",
     "output_type": "stream",
     "text": [
      "{'ticker': 'AAPL', 'close price': 149.0, 'volume': 200000, 'date': '2019-02-19'}\n",
      "{'ticker': 'AAPL', 'close price': 150.0, 'volume': 200000, 'date': '2019-02-20'}\n"
     ]
    }
   ],
   "source": [
    "price_history=[\n",
    "    {'ticker':'AAPL','close price':148.00, 'volume':200000, 'date':'2019-02-18'},\n",
    "    {'ticker':'AAPL','close price':149.00, 'volume':200000, 'date':'2019-02-19'},\n",
    "    {'ticker':'AAPL','close price':150.00, 'volume':200000, 'date':'2019-02-20'}\n",
    "    ]\n",
    "\n",
    "for price in price_history:\n",
    "    #print(price)\n",
    "    if price['close price']>=149:\n",
    "        print(price)\n",
    "    "
   ]
  },
  {
   "cell_type": "code",
   "execution_count": 10,
   "metadata": {},
   "outputs": [],
   "source": [
    "game_score={'Tom':34,\n",
    "            'Mary':44,\n",
    "            'Becky':33,\n",
    "            'Jerry':56,\n",
    "            }"
   ]
  },
  {
   "cell_type": "code",
   "execution_count": 30,
   "metadata": {},
   "outputs": [
    {
     "data": {
      "text/plain": [
       "dict_items([('Tom', 34), ('Mary', 44), ('Becky', 33), ('Jerry', 56)])"
      ]
     },
     "execution_count": 30,
     "metadata": {},
     "output_type": "execute_result"
    }
   ],
   "source": [
    "game_score.items()\n"
   ]
  },
  {
   "cell_type": "code",
   "execution_count": 15,
   "metadata": {},
   "outputs": [
    {
     "data": {
      "text/plain": [
       "dict_keys(['Tom', 'Mary', 'Becky', 'Jerry'])"
      ]
     },
     "execution_count": 15,
     "metadata": {},
     "output_type": "execute_result"
    }
   ],
   "source": [
    "game_score.keys()"
   ]
  },
  {
   "cell_type": "code",
   "execution_count": 16,
   "metadata": {},
   "outputs": [
    {
     "data": {
      "text/plain": [
       "dict_values([34, 44, 33, 56])"
      ]
     },
     "execution_count": 16,
     "metadata": {},
     "output_type": "execute_result"
    }
   ],
   "source": [
    "game_score.values()"
   ]
  },
  {
   "cell_type": "markdown",
   "metadata": {},
   "source": [
    "|if you iterate over a dictionary, each of the variable is going to correspond to one of the keys in that dictionary. Additionally dictionaries are unordered and you can not rely on any guarantee about which element appear in which order."
   ]
  },
  {
   "cell_type": "code",
   "execution_count": 17,
   "metadata": {},
   "outputs": [
    {
     "name": "stdout",
     "output_type": "stream",
     "text": [
      "Tom\n",
      "Mary\n",
      "Becky\n",
      "Jerry\n"
     ]
    }
   ],
   "source": [
    "for name in game_score:\n",
    "    print(name)"
   ]
  },
  {
   "cell_type": "code",
   "execution_count": 19,
   "metadata": {},
   "outputs": [
    {
     "name": "stdout",
     "output_type": "stream",
     "text": [
      "Tom\n",
      "Mary\n",
      "Becky\n",
      "Jerry\n"
     ]
    }
   ],
   "source": [
    "for name in game_score.keys():\n",
    "    print(name)"
   ]
  },
  {
   "cell_type": "code",
   "execution_count": 27,
   "metadata": {},
   "outputs": [
    {
     "name": "stdout",
     "output_type": "stream",
     "text": [
      "34\n",
      "44\n",
      "33\n",
      "56\n"
     ]
    }
   ],
   "source": [
    "for score in game_score.values():\n",
    "    #print(f\"Score for {score['player']} is {score['score']}\")\n",
    "    print(score)\n",
    "   "
   ]
  },
  {
   "cell_type": "code",
   "execution_count": 29,
   "metadata": {},
   "outputs": [
    {
     "name": "stdout",
     "output_type": "stream",
     "text": [
      "('Tom', 34)\n",
      "('Mary', 44)\n",
      "('Becky', 33)\n",
      "('Jerry', 56)\n"
     ]
    }
   ],
   "source": [
    "for name in game_score.items():\n",
    "    print(name)"
   ]
  },
  {
   "cell_type": "code",
   "execution_count": 55,
   "metadata": {},
   "outputs": [
    {
     "name": "stdout",
     "output_type": "stream",
     "text": [
      "The name is Tom and the score - 34\n",
      "The name is Mary and the score - 44\n",
      "The name is Becky and the score - 33\n",
      "The name is Jerry and the score - 56\n"
     ]
    }
   ],
   "source": [
    "for name, value in game_score.items():\n",
    "    print(\"The name is %s and the score - %s\" % (name, value))"
   ]
  },
  {
   "cell_type": "code",
   "execution_count": 58,
   "metadata": {},
   "outputs": [
    {
     "name": "stdout",
     "output_type": "stream",
     "text": [
      "Tom: 34\n",
      "Mary: 44\n",
      "Becky: 33\n",
      "Jerry: 56\n"
     ]
    }
   ],
   "source": [
    "for name, value in game_score.items():\n",
    "    print(f\"{name}: {value}\")"
   ]
  },
  {
   "cell_type": "code",
   "execution_count": 59,
   "metadata": {},
   "outputs": [
    {
     "data": {
      "text/plain": [
       "dict_items"
      ]
     },
     "execution_count": 59,
     "metadata": {},
     "output_type": "execute_result"
    }
   ],
   "source": [
    "type(game_score.items())"
   ]
  },
  {
   "cell_type": "markdown",
   "metadata": {},
   "source": [
    "Iterating over a set\n",
    "You can iterate over a set using a for loop. The set is automatically converted to a list,"
   ]
  },
  {
   "cell_type": "code",
   "execution_count": 61,
   "metadata": {},
   "outputs": [],
   "source": [
    "character={'a','b','c','d','e'}"
   ]
  },
  {
   "cell_type": "code",
   "execution_count": 62,
   "metadata": {},
   "outputs": [
    {
     "data": {
      "text/plain": [
       "{'a', 'b', 'c', 'd', 'e'}"
      ]
     },
     "execution_count": 62,
     "metadata": {},
     "output_type": "execute_result"
    }
   ],
   "source": [
    "character"
   ]
  },
  {
   "cell_type": "code",
   "execution_count": 64,
   "metadata": {},
   "outputs": [
    {
     "name": "stdout",
     "output_type": "stream",
     "text": [
      "e\n",
      "d\n",
      "c\n",
      "a\n",
      "b\n"
     ]
    }
   ],
   "source": [
    "for char in character:\n",
    "    print(char)"
   ]
  },
  {
   "cell_type": "code",
   "execution_count": 71,
   "metadata": {},
   "outputs": [
    {
     "name": "stdout",
     "output_type": "stream",
     "text": [
      "2016 was a leap year\n",
      "2017 was NOT a leap year\n",
      "2018 was NOT a leap year\n",
      "2019 was NOT a leap year\n",
      "2020 was a leap year\n"
     ]
    }
   ],
   "source": [
    "years=[2016, 2017, 2018, 2019, 2020]\n",
    "for year in years:\n",
    "    #print(year)\n",
    "    if year %4==0:\n",
    "        print(\"%s was a leap year\" % year)\n",
    "    else:\n",
    "        print(\"%s was NOT a leap year\" % year)"
   ]
  },
  {
   "cell_type": "markdown",
   "metadata": {},
   "source": [
    "Nested for loop"
   ]
  },
  {
   "cell_type": "code",
   "execution_count": 72,
   "metadata": {},
   "outputs": [
    {
     "name": "stdout",
     "output_type": "stream",
     "text": [
      "['Mary', 'Linda', 'Jessica']\n",
      "['James', 'Jacob', 'Williams']\n"
     ]
    }
   ],
   "source": [
    "names=[['Mary','Linda','Jessica'],\n",
    "       ['James','Jacob','Williams']]\n",
    "for name in names:\n",
    "    print(name)"
   ]
  },
  {
   "cell_type": "code",
   "execution_count": 73,
   "metadata": {},
   "outputs": [
    {
     "name": "stdout",
     "output_type": "stream",
     "text": [
      "Mary\n",
      "Linda\n",
      "Jessica\n",
      "James\n",
      "Jacob\n",
      "Williams\n"
     ]
    }
   ],
   "source": [
    "for name in names:\n",
    "    for subname in name:\n",
    "        print(subname)"
   ]
  },
  {
   "cell_type": "code",
   "execution_count": 74,
   "metadata": {},
   "outputs": [
    {
     "name": "stdout",
     "output_type": "stream",
     "text": [
      "Red Pen\n",
      "Red Marker\n",
      "Red Pencil\n",
      "Green Pen\n",
      "Green Marker\n",
      "Green Pencil\n",
      "Blue Pen\n",
      "Blue Marker\n",
      "Blue Pencil\n"
     ]
    }
   ],
   "source": [
    "color_list=[\"Red\",\"Green\",\"Blue\"]\n",
    "object_list=[\"Pen\",\"Marker\",\"Pencil\"]\n",
    "for color in color_list:\n",
    "    for object in object_list:\n",
    "        print(f\"{color} {object}\")"
   ]
  }
 ],
 "metadata": {
  "kernelspec": {
   "display_name": "base",
   "language": "python",
   "name": "python3"
  },
  "language_info": {
   "codemirror_mode": {
    "name": "ipython",
    "version": 3
   },
   "file_extension": ".py",
   "mimetype": "text/x-python",
   "name": "python",
   "nbconvert_exporter": "python",
   "pygments_lexer": "ipython3",
   "version": "3.11.4"
  }
 },
 "nbformat": 4,
 "nbformat_minor": 2
}
