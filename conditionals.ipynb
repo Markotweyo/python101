{
 "cells": [
  {
   "cell_type": "markdown",
   "metadata": {},
   "source": [
    "Perfoming if checks"
   ]
  },
  {
   "cell_type": "code",
   "execution_count": null,
   "metadata": {},
   "outputs": [],
   "source": [
    "if 100>50:\n",
    "    print(\"This is true\")"
   ]
  },
  {
   "cell_type": "code",
   "execution_count": null,
   "metadata": {},
   "outputs": [],
   "source": [
    "gross_salary=50000\n",
    "if gross_salary>=50000:\n",
    "    tax_rate=30"
   ]
  },
  {
   "cell_type": "code",
   "execution_count": null,
   "metadata": {},
   "outputs": [],
   "source": [
    "del(tax_rate)"
   ]
  },
  {
   "cell_type": "code",
   "execution_count": null,
   "metadata": {},
   "outputs": [],
   "source": [
    "if gross_salary<=400000:\n",
    "    tax_rate=30\n",
    "print(tax_rate)"
   ]
  },
  {
   "cell_type": "code",
   "execution_count": null,
   "metadata": {},
   "outputs": [],
   "source": [
    "\n",
    "def name_check(name_list):\n",
    "    if 'Mark' not in name_list:\n",
    "        print(\"I did not find it\")\n",
    "        name_list.append('Bond')\n",
    "    return (name_list)"
   ]
  },
  {
   "cell_type": "code",
   "execution_count": null,
   "metadata": {},
   "outputs": [],
   "source": [
    "name_check(['James','Greg','Cameron', 'Robert','Emily'])"
   ]
  },
  {
   "cell_type": "code",
   "execution_count": null,
   "metadata": {},
   "outputs": [],
   "source": [
    "employee_salary={\"Ray\":3400,\n",
    "                 \"Jacob\":3800,\n",
    "                 \"Juma\":4400,\n",
    "                 \"Greg\":5300,\n",
    "                 \"Mark\":2500\n",
    "                 }"
   ]
  },
  {
   "cell_type": "code",
   "execution_count": null,
   "metadata": {},
   "outputs": [],
   "source": [
    "type(employee_salary)\n",
    "print(type(employee_salary))"
   ]
  },
  {
   "cell_type": "code",
   "execution_count": null,
   "metadata": {},
   "outputs": [],
   "source": [
    "if \"Ray\" in employee_salary:\n",
    "    employee_salary[\"Ray\"]=6600\n",
    "    print(employee_salary)"
   ]
  },
  {
   "cell_type": "code",
   "execution_count": null,
   "metadata": {},
   "outputs": [],
   "source": [
    "if \"Faith\" not in employee_salary:\n",
    "    employee_salary[\"Faith\"]=7200\n",
    "    print(employee_salary)"
   ]
  },
  {
   "cell_type": "code",
   "execution_count": null,
   "metadata": {},
   "outputs": [],
   "source": [
    "if employee_salary['Ray']>6000 and employee_salary['Ray']<7000: #using if statement with AND operator\n",
    "    print(\"Ray's original salary is:\", employee_salary['Ray'])\n",
    "    employee_salary['Ray']=employee_salary['Ray']*1.1\n",
    "    print(\"Ray's new salary is:\", employee_salary['Ray'])"
   ]
  },
  {
   "cell_type": "code",
   "execution_count": 71,
   "metadata": {},
   "outputs": [],
   "source": [
    "if not (10 <= 100): #testing not of a true statement\n",
    "    print(\"not of a True condition is false\")"
   ]
  },
  {
   "cell_type": "markdown",
   "metadata": {},
   "source": [
    "Ternary If Statements"
   ]
  },
  {
   "cell_type": "code",
   "execution_count": 80,
   "metadata": {},
   "outputs": [
    {
     "name": "stdout",
     "output_type": "stream",
     "text": [
      "70\n",
      "You passed your examination\n",
      "If block executed\n"
     ]
    }
   ],
   "source": [
    "student_score=int(input(\"Please enter your scare\"))\n",
    "print(student_score)\n",
    "type(student_score)\n",
    "if student_score>=45:\n",
    "    print(\"You passed your examination\")\n",
    "    print(\"If block executed\")\n",
    "else:\n",
    "    print(\"You failed your examination\")\n",
    "    print(\"Else block executed\")\n"
   ]
  },
  {
   "cell_type": "code",
   "execution_count": 2,
   "metadata": {},
   "outputs": [
    {
     "name": "stdout",
     "output_type": "stream",
     "text": [
      "num before experssion : 50\n"
     ]
    }
   ],
   "source": [
    "num=50\n",
    "print(\"num before experssion :\", num)"
   ]
  },
  {
   "cell_type": "code",
   "execution_count": 3,
   "metadata": {},
   "outputs": [
    {
     "name": "stdout",
     "output_type": "stream",
     "text": [
      "num after experssion: 30\n"
     ]
    }
   ],
   "source": [
    "#Ternary if condition supports short circuiting\n",
    "num=num-20 if num>20 else num+20\n",
    "print(\"num after experssion:\", num)\n"
   ]
  },
  {
   "cell_type": "markdown",
   "metadata": {},
   "source": [
    "Using Elif block for multiple python branches"
   ]
  }
 ],
 "metadata": {
  "kernelspec": {
   "display_name": "base",
   "language": "python",
   "name": "python3"
  },
  "language_info": {
   "codemirror_mode": {
    "name": "ipython",
    "version": 3
   },
   "file_extension": ".py",
   "mimetype": "text/x-python",
   "name": "python",
   "nbconvert_exporter": "python",
   "pygments_lexer": "ipython3",
   "version": "3.11.4"
  }
 },
 "nbformat": 4,
 "nbformat_minor": 2
}
